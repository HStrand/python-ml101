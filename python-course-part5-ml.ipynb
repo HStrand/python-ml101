{
 "cells": [
  {
   "cell_type": "markdown",
   "metadata": {},
   "source": [
    "## Import libraries"
   ]
  },
  {
   "cell_type": "code",
   "execution_count": 1,
   "metadata": {
    "collapsed": true
   },
   "outputs": [],
   "source": [
    "import pandas as pd\n",
    "import numpy as np\n",
    "import matplotlib\n",
    "import matplotlib.pyplot as plt\n",
    "import seaborn as sns\n",
    "%matplotlib inline"
   ]
  },
  {
   "cell_type": "markdown",
   "metadata": {},
   "source": [
    "## Import data"
   ]
  },
  {
   "cell_type": "code",
   "execution_count": 2,
   "metadata": {
    "collapsed": true
   },
   "outputs": [],
   "source": [
    "train = pd.read_csv('train.csv')\n",
    "test = pd.read_csv('test.csv')"
   ]
  },
  {
   "cell_type": "markdown",
   "metadata": {},
   "source": [
    "## Explore"
   ]
  },
  {
   "cell_type": "code",
   "execution_count": 3,
   "metadata": {},
   "outputs": [
    {
     "data": {
      "text/html": [
       "<div>\n",
       "<style>\n",
       "    .dataframe thead tr:only-child th {\n",
       "        text-align: right;\n",
       "    }\n",
       "\n",
       "    .dataframe thead th {\n",
       "        text-align: left;\n",
       "    }\n",
       "\n",
       "    .dataframe tbody tr th {\n",
       "        vertical-align: top;\n",
       "    }\n",
       "</style>\n",
       "<table border=\"1\" class=\"dataframe\">\n",
       "  <thead>\n",
       "    <tr style=\"text-align: right;\">\n",
       "      <th></th>\n",
       "      <th>PassengerId</th>\n",
       "      <th>Survived</th>\n",
       "      <th>Pclass</th>\n",
       "      <th>Name</th>\n",
       "      <th>Sex</th>\n",
       "      <th>Age</th>\n",
       "      <th>SibSp</th>\n",
       "      <th>Parch</th>\n",
       "      <th>Ticket</th>\n",
       "      <th>Fare</th>\n",
       "      <th>Cabin</th>\n",
       "      <th>Embarked</th>\n",
       "    </tr>\n",
       "  </thead>\n",
       "  <tbody>\n",
       "    <tr>\n",
       "      <th>0</th>\n",
       "      <td>1</td>\n",
       "      <td>0</td>\n",
       "      <td>3</td>\n",
       "      <td>Braund, Mr. Owen Harris</td>\n",
       "      <td>male</td>\n",
       "      <td>22.0</td>\n",
       "      <td>1</td>\n",
       "      <td>0</td>\n",
       "      <td>A/5 21171</td>\n",
       "      <td>7.2500</td>\n",
       "      <td>NaN</td>\n",
       "      <td>S</td>\n",
       "    </tr>\n",
       "    <tr>\n",
       "      <th>1</th>\n",
       "      <td>2</td>\n",
       "      <td>1</td>\n",
       "      <td>1</td>\n",
       "      <td>Cumings, Mrs. John Bradley (Florence Briggs Th...</td>\n",
       "      <td>female</td>\n",
       "      <td>38.0</td>\n",
       "      <td>1</td>\n",
       "      <td>0</td>\n",
       "      <td>PC 17599</td>\n",
       "      <td>71.2833</td>\n",
       "      <td>C85</td>\n",
       "      <td>C</td>\n",
       "    </tr>\n",
       "    <tr>\n",
       "      <th>2</th>\n",
       "      <td>3</td>\n",
       "      <td>1</td>\n",
       "      <td>3</td>\n",
       "      <td>Heikkinen, Miss. Laina</td>\n",
       "      <td>female</td>\n",
       "      <td>26.0</td>\n",
       "      <td>0</td>\n",
       "      <td>0</td>\n",
       "      <td>STON/O2. 3101282</td>\n",
       "      <td>7.9250</td>\n",
       "      <td>NaN</td>\n",
       "      <td>S</td>\n",
       "    </tr>\n",
       "    <tr>\n",
       "      <th>3</th>\n",
       "      <td>4</td>\n",
       "      <td>1</td>\n",
       "      <td>1</td>\n",
       "      <td>Futrelle, Mrs. Jacques Heath (Lily May Peel)</td>\n",
       "      <td>female</td>\n",
       "      <td>35.0</td>\n",
       "      <td>1</td>\n",
       "      <td>0</td>\n",
       "      <td>113803</td>\n",
       "      <td>53.1000</td>\n",
       "      <td>C123</td>\n",
       "      <td>S</td>\n",
       "    </tr>\n",
       "    <tr>\n",
       "      <th>4</th>\n",
       "      <td>5</td>\n",
       "      <td>0</td>\n",
       "      <td>3</td>\n",
       "      <td>Allen, Mr. William Henry</td>\n",
       "      <td>male</td>\n",
       "      <td>35.0</td>\n",
       "      <td>0</td>\n",
       "      <td>0</td>\n",
       "      <td>373450</td>\n",
       "      <td>8.0500</td>\n",
       "      <td>NaN</td>\n",
       "      <td>S</td>\n",
       "    </tr>\n",
       "  </tbody>\n",
       "</table>\n",
       "</div>"
      ],
      "text/plain": [
       "   PassengerId  Survived  Pclass  \\\n",
       "0            1         0       3   \n",
       "1            2         1       1   \n",
       "2            3         1       3   \n",
       "3            4         1       1   \n",
       "4            5         0       3   \n",
       "\n",
       "                                                Name     Sex   Age  SibSp  \\\n",
       "0                            Braund, Mr. Owen Harris    male  22.0      1   \n",
       "1  Cumings, Mrs. John Bradley (Florence Briggs Th...  female  38.0      1   \n",
       "2                             Heikkinen, Miss. Laina  female  26.0      0   \n",
       "3       Futrelle, Mrs. Jacques Heath (Lily May Peel)  female  35.0      1   \n",
       "4                           Allen, Mr. William Henry    male  35.0      0   \n",
       "\n",
       "   Parch            Ticket     Fare Cabin Embarked  \n",
       "0      0         A/5 21171   7.2500   NaN        S  \n",
       "1      0          PC 17599  71.2833   C85        C  \n",
       "2      0  STON/O2. 3101282   7.9250   NaN        S  \n",
       "3      0            113803  53.1000  C123        S  \n",
       "4      0            373450   8.0500   NaN        S  "
      ]
     },
     "execution_count": 3,
     "metadata": {},
     "output_type": "execute_result"
    }
   ],
   "source": [
    "train.head()"
   ]
  },
  {
   "cell_type": "code",
   "execution_count": 4,
   "metadata": {
    "scrolled": false
   },
   "outputs": [
    {
     "name": "stdout",
     "output_type": "stream",
     "text": [
      "<class 'pandas.core.frame.DataFrame'>\n",
      "RangeIndex: 891 entries, 0 to 890\n",
      "Data columns (total 12 columns):\n",
      "PassengerId    891 non-null int64\n",
      "Survived       891 non-null int64\n",
      "Pclass         891 non-null int64\n",
      "Name           891 non-null object\n",
      "Sex            891 non-null object\n",
      "Age            714 non-null float64\n",
      "SibSp          891 non-null int64\n",
      "Parch          891 non-null int64\n",
      "Ticket         891 non-null object\n",
      "Fare           891 non-null float64\n",
      "Cabin          204 non-null object\n",
      "Embarked       889 non-null object\n",
      "dtypes: float64(2), int64(5), object(5)\n",
      "memory usage: 83.6+ KB\n",
      "<class 'pandas.core.frame.DataFrame'>\n",
      "RangeIndex: 418 entries, 0 to 417\n",
      "Data columns (total 11 columns):\n",
      "PassengerId    418 non-null int64\n",
      "Pclass         418 non-null int64\n",
      "Name           418 non-null object\n",
      "Sex            418 non-null object\n",
      "Age            332 non-null float64\n",
      "SibSp          418 non-null int64\n",
      "Parch          418 non-null int64\n",
      "Ticket         418 non-null object\n",
      "Fare           417 non-null float64\n",
      "Cabin          91 non-null object\n",
      "Embarked       418 non-null object\n",
      "dtypes: float64(2), int64(4), object(5)\n",
      "memory usage: 36.0+ KB\n"
     ]
    }
   ],
   "source": [
    "train.info()\n",
    "test.info()"
   ]
  },
  {
   "cell_type": "code",
   "execution_count": 5,
   "metadata": {},
   "outputs": [
    {
     "data": {
      "text/plain": [
       "0.3838383838383838"
      ]
     },
     "execution_count": 5,
     "metadata": {},
     "output_type": "execute_result"
    }
   ],
   "source": [
    "train.Survived.mean()"
   ]
  },
  {
   "cell_type": "code",
   "execution_count": 6,
   "metadata": {},
   "outputs": [
    {
     "data": {
      "text/plain": [
       "<matplotlib.axes._subplots.AxesSubplot at 0x257c2b1ef98>"
      ]
     },
     "execution_count": 6,
     "metadata": {},
     "output_type": "execute_result"
    },
    {
     "data": {
      "image/png": "[encoded data removed]",
      "text/plain": [
       "<matplotlib.figure.Figure at 0x257c3f1ee48>"
      ]
     },
     "metadata": {},
     "output_type": "display_data"
    }
   ],
   "source": [
    "sns.barplot(x=train.Sex, y=train.Survived)"
   ]
  },
  {
   "cell_type": "code",
   "execution_count": 7,
   "metadata": {},
   "outputs": [
    {
     "data": {
      "text/plain": [
       "<matplotlib.axes._subplots.AxesSubplot at 0x257bd961390>"
      ]
     },
     "execution_count": 7,
     "metadata": {},
     "output_type": "execute_result"
    },
    {
     "data": {
      "image/png": "[encoded data removed]",
      "text/plain": [
       "<matplotlib.figure.Figure at 0x257c084b898>"
      ]
     },
     "metadata": {},
     "output_type": "display_data"
    }
   ],
   "source": [
    "sns.barplot(x=train.Pclass, y=train.Survived)"
   ]
  },
  {
   "cell_type": "code",
   "execution_count": 8,
   "metadata": {},
   "outputs": [
    {
     "data": {
      "text/plain": [
       "<matplotlib.axes._subplots.AxesSubplot at 0x257c3d5c128>"
      ]
     },
     "execution_count": 8,
     "metadata": {},
     "output_type": "execute_result"
    },
    {
     "data": {
      "image/png": "[encoded data removed]",
      "text/plain": [
       "<matplotlib.figure.Figure at 0x257c3d0cb38>"
      ]
     },
     "metadata": {},
     "output_type": "display_data"
    }
   ],
   "source": [
    "sns.barplot(x=train.Embarked, y=train.Survived)"
   ]
  },
  {
   "cell_type": "code",
   "execution_count": 9,
   "metadata": {},
   "outputs": [
    {
     "data": {
      "text/plain": [
       "<matplotlib.axes._subplots.AxesSubplot at 0x257c3e96ba8>"
      ]
     },
     "execution_count": 9,
     "metadata": {},
     "output_type": "execute_result"
    },
    {
     "data": {
      "image/png": "[encoded data removed]",
      "text/plain": [
       "<matplotlib.figure.Figure at 0x257c3e71390>"
      ]
     },
     "metadata": {},
     "output_type": "display_data"
    }
   ],
   "source": [
    "sns.boxplot(x=train.Survived, y=train.Fare)"
   ]
  },
  {
   "cell_type": "code",
   "execution_count": 10,
   "metadata": {},
   "outputs": [
    {
     "data": {
      "text/plain": [
       "<matplotlib.axes._subplots.AxesSubplot at 0x257c4099c88>"
      ]
     },
     "execution_count": 10,
     "metadata": {},
     "output_type": "execute_result"
    },
    {
     "data": {
      "image/png": "[encoded data removed]",
      "text/plain": [
       "<matplotlib.figure.Figure at 0x257c412d198>"
      ]
     },
     "metadata": {},
     "output_type": "display_data"
    }
   ],
   "source": [
    "sns.boxplot(x=train[train.Fare<200].Survived, y=train[train.Fare<200].Fare)"
   ]
  },
  {
   "cell_type": "markdown",
   "metadata": {},
   "source": [
    "## Handling missing values"
   ]
  },
  {
   "cell_type": "code",
   "execution_count": 11,
   "metadata": {
    "collapsed": true
   },
   "outputs": [],
   "source": [
    "train = train[pd.notnull(train.Embarked)]"
   ]
  },
  {
   "cell_type": "code",
   "execution_count": 12,
   "metadata": {},
   "outputs": [
    {
     "data": {
      "text/plain": [
       "<matplotlib.axes._subplots.AxesSubplot at 0x257c3e764a8>"
      ]
     },
     "execution_count": 12,
     "metadata": {},
     "output_type": "execute_result"
    },
    {
     "data": {
      "image/png": "[encoded data removed]",
      "text/plain": [
       "<matplotlib.figure.Figure at 0x257c40ff240>"
      ]
     },
     "metadata": {},
     "output_type": "display_data"
    }
   ],
   "source": [
    "sns.barplot(x=train.Cabin.isnull(), y=train.Survived)"
   ]
  },
  {
   "cell_type": "code",
   "execution_count": 13,
   "metadata": {
    "collapsed": true
   },
   "outputs": [],
   "source": [
    "hascabin_train = train.Cabin.notnull().astype(int)\n",
    "hascabin_test = test.Cabin.notnull().astype(int)"
   ]
  },
  {
   "cell_type": "code",
   "execution_count": 14,
   "metadata": {
    "collapsed": true
   },
   "outputs": [],
   "source": [
    "sex_train = pd.get_dummies(train.Sex)\n",
    "sex_test = pd.get_dummies(test.Sex)"
   ]
  },
  {
   "cell_type": "code",
   "execution_count": 15,
   "metadata": {},
   "outputs": [
    {
     "data": {
      "text/plain": [
       "<matplotlib.axes._subplots.AxesSubplot at 0x257c4283198>"
      ]
     },
     "execution_count": 15,
     "metadata": {},
     "output_type": "execute_result"
    },
    {
     "data": {
      "image/png": "[encoded data removed]",
      "text/plain": [
       "<matplotlib.figure.Figure at 0x257c447b198>"
      ]
     },
     "metadata": {},
     "output_type": "display_data"
    }
   ],
   "source": [
    "sns.boxplot(x=train.Survived, y=train.Age)"
   ]
  },
  {
   "cell_type": "code",
   "execution_count": 16,
   "metadata": {},
   "outputs": [
    {
     "data": {
      "text/plain": [
       "<matplotlib.axes._subplots.AxesSubplot at 0x257c4488ef0>"
      ]
     },
     "execution_count": 16,
     "metadata": {},
     "output_type": "execute_result"
    },
    {
     "data": {
      "image/png": "[encoded data removed]",
      "text/plain": [
       "<matplotlib.figure.Figure at 0x257c4295be0>"
      ]
     },
     "metadata": {},
     "output_type": "display_data"
    }
   ],
   "source": [
    "sns.boxplot(x=train.Survived, y=train.SibSp)"
   ]
  },
  {
   "cell_type": "code",
   "execution_count": 17,
   "metadata": {},
   "outputs": [
    {
     "data": {
      "text/plain": [
       "29.64209269662921"
      ]
     },
     "execution_count": 17,
     "metadata": {},
     "output_type": "execute_result"
    }
   ],
   "source": [
    "train.Age.mean()"
   ]
  },
  {
   "cell_type": "code",
   "execution_count": 18,
   "metadata": {
    "collapsed": true
   },
   "outputs": [],
   "source": [
    "age_imputed_train = pd.Series()\n",
    "age_imputed_test = pd.Series()"
   ]
  },
  {
   "cell_type": "code",
   "execution_count": 19,
   "metadata": {
    "collapsed": true
   },
   "outputs": [],
   "source": [
    "age_imputed_train = train.Age.isnull().astype(int)\n",
    "age_imputed_test = test.Age.isnull().astype(int)"
   ]
  },
  {
   "cell_type": "code",
   "execution_count": 20,
   "metadata": {
    "collapsed": true,
    "scrolled": true
   },
   "outputs": [],
   "source": [
    "age_train = train.Age\n",
    "age_test = test.Age"
   ]
  },
  {
   "cell_type": "code",
   "execution_count": 21,
   "metadata": {
    "scrolled": true
   },
   "outputs": [
    {
     "name": "stderr",
     "output_type": "stream",
     "text": [
      "C:\\ProgramData\\Anaconda3\\lib\\site-packages\\ipykernel\\__main__.py:2: SettingWithCopyWarning: \n",
      "A value is trying to be set on a copy of a slice from a DataFrame\n",
      "\n",
      "See the caveats in the documentation: http://pandas.pydata.org/pandas-docs/stable/indexing.html#indexing-view-versus-copy\n",
      "  from ipykernel import kernelapp as app\n"
     ]
    }
   ],
   "source": [
    "age_train[age_train.isnull()] = 30\n",
    "age_test[age_test.isnull()] = 30"
   ]
  },
  {
   "cell_type": "markdown",
   "metadata": {},
   "source": [
    "## Construct ML dataset"
   ]
  },
  {
   "cell_type": "code",
   "execution_count": 22,
   "metadata": {
    "collapsed": true,
    "scrolled": true
   },
   "outputs": [],
   "source": [
    "train_final = pd.concat([train.Pclass, pd.get_dummies(train.Embarked), hascabin_train, sex_train.female, age_train, age_imputed_train], axis=1)"
   ]
  },
  {
   "cell_type": "code",
   "execution_count": 23,
   "metadata": {
    "collapsed": true,
    "scrolled": true
   },
   "outputs": [],
   "source": [
    "test_final = pd.concat([test.Pclass, pd.get_dummies(test.Embarked), hascabin_test, sex_test.female, age_test, age_imputed_test], axis=1)"
   ]
  },
  {
   "cell_type": "code",
   "execution_count": 24,
   "metadata": {
    "collapsed": true
   },
   "outputs": [],
   "source": [
    "X = train_final.as_matrix()"
   ]
  },
  {
   "cell_type": "code",
   "execution_count": 25,
   "metadata": {},
   "outputs": [
    {
     "data": {
      "text/plain": [
       "(889, 8)"
      ]
     },
     "execution_count": 25,
     "metadata": {},
     "output_type": "execute_result"
    }
   ],
   "source": [
    "X.shape"
   ]
  },
  {
   "cell_type": "code",
   "execution_count": 26,
   "metadata": {
    "collapsed": true
   },
   "outputs": [],
   "source": [
    "X_train = X[:600]\n",
    "X_validate = X[600:]\n",
    "Y_train = train.Survived[:600]\n",
    "Y_validate = train.Survived[600:]\n",
    "X_test = test_final.as_matrix()"
   ]
  },
  {
   "cell_type": "markdown",
   "metadata": {},
   "source": [
    "## Machine learning"
   ]
  },
  {
   "cell_type": "code",
   "execution_count": 27,
   "metadata": {
    "collapsed": true
   },
   "outputs": [],
   "source": [
    "from sklearn.ensemble import RandomForestClassifier, AdaBoostClassifier\n",
    "from sklearn.naive_bayes import GaussianNB\n",
    "from sklearn.svm import SVC\n",
    "from sklearn.neighbors import KNeighborsClassifier\n",
    "from sklearn.linear_model import LogisticRegression\n",
    "import xgboost as xgb"
   ]
  },
  {
   "cell_type": "code",
   "execution_count": 28,
   "metadata": {
    "collapsed": true
   },
   "outputs": [],
   "source": [
    "rf = RandomForestClassifier()"
   ]
  },
  {
   "cell_type": "code",
   "execution_count": 29,
   "metadata": {},
   "outputs": [
    {
     "data": {
      "text/plain": [
       "RandomForestClassifier(bootstrap=True, class_weight=None, criterion='gini',\n",
       "            max_depth=None, max_features='auto', max_leaf_nodes=None,\n",
       "            min_impurity_decrease=0.0, min_impurity_split=None,\n",
       "            min_samples_leaf=1, min_samples_split=2,\n",
       "            min_weight_fraction_leaf=0.0, n_estimators=10, n_jobs=1,\n",
       "            oob_score=False, random_state=None, verbose=0,\n",
       "            warm_start=False)"
      ]
     },
     "execution_count": 29,
     "metadata": {},
     "output_type": "execute_result"
    }
   ],
   "source": [
    "rf.fit(X_train, Y_train)"
   ]
  },
  {
   "cell_type": "code",
   "execution_count": 30,
   "metadata": {},
   "outputs": [
    {
     "data": {
      "text/plain": [
       "array([0, 1, 0, 0, 0, 0, 0, 1, 1, 0, 0, 1, 0, 0, 1, 0, 1, 1, 0, 0, 0, 0, 0,\n",
       "       0, 0, 0, 1, 0, 0, 0, 0, 0, 1, 0, 1, 0, 0, 0, 0, 0, 1, 1, 0, 1, 1, 0,\n",
       "       0, 0, 1, 0, 1, 0, 1, 1, 0, 0, 1, 0, 0, 1, 0, 0, 0, 0, 0, 0, 0, 0, 1,\n",
       "       1, 0, 0, 0, 0, 0, 0, 0, 0, 0, 1, 0, 0, 0, 0, 0, 0, 0, 0, 1, 0, 1, 0,\n",
       "       0, 0, 0, 0, 1, 1, 0, 1, 1, 0, 0, 0, 0, 1, 0, 1, 0, 1, 0, 1, 0, 0, 0,\n",
       "       1, 1, 0, 0, 1, 0, 0, 0, 1, 0, 1, 1, 0, 0, 1, 0, 0, 0, 0, 0, 0, 0, 0,\n",
       "       0, 0, 1, 1, 0, 0, 0, 0, 1, 0, 1, 1, 1, 0, 0, 1, 1, 0, 0, 0, 1, 0, 0,\n",
       "       0, 1, 0, 1, 0, 1, 0, 0, 0, 0, 1, 0, 1, 0, 0, 1, 0, 1, 1, 1, 0, 0, 0,\n",
       "       0, 0, 0, 0, 1, 0, 0, 0, 0, 0, 0, 1, 1, 0, 0, 0, 1, 1, 0, 1, 0, 1, 0,\n",
       "       0, 1, 0, 0, 0, 1, 0, 0, 1, 0, 0, 0, 1, 1, 1, 0, 0, 0, 0, 0, 0, 0, 1,\n",
       "       0, 0, 0, 1, 0, 0, 0, 0, 0, 0, 1, 0, 0, 0, 0, 0, 0, 1, 0, 0, 1, 1, 1,\n",
       "       0, 1, 0, 0, 0, 0, 0, 1, 0, 0, 1, 1, 0, 0, 0, 0, 1, 1, 0, 1, 0, 0, 0,\n",
       "       0, 1, 1, 0, 1, 0, 0, 1, 0, 1, 0, 1, 1], dtype=int64)"
      ]
     },
     "execution_count": 30,
     "metadata": {},
     "output_type": "execute_result"
    }
   ],
   "source": [
    "rf.predict(X_validate)"
   ]
  },
  {
   "cell_type": "code",
   "execution_count": 31,
   "metadata": {
    "scrolled": true
   },
   "outputs": [
    {
     "data": {
      "text/plain": [
       "array([[ 0.95050452,  0.04949548],\n",
       "       [ 0.49166667,  0.50833333],\n",
       "       [ 0.50119048,  0.49880952],\n",
       "       [ 0.9       ,  0.1       ],\n",
       "       [ 1.        ,  0.        ],\n",
       "       [ 0.83936508,  0.16063492],\n",
       "       [ 0.8       ,  0.2       ],\n",
       "       [ 0.2       ,  0.8       ],\n",
       "       [ 0.        ,  1.        ],\n",
       "       [ 0.5       ,  0.5       ],\n",
       "       [ 0.95050452,  0.04949548],\n",
       "       [ 0.18947696,  0.81052304],\n",
       "       [ 0.95278879,  0.04721121],\n",
       "       [ 1.        ,  0.        ],\n",
       "       [ 0.25333333,  0.74666667],\n",
       "       [ 1.        ,  0.        ],\n",
       "       [ 0.1       ,  0.9       ],\n",
       "       [ 0.3       ,  0.7       ],\n",
       "       [ 0.97142857,  0.02857143],\n",
       "       [ 0.56333333,  0.43666667],\n",
       "       [ 1.        ,  0.        ],\n",
       "       [ 0.75666667,  0.24333333],\n",
       "       [ 0.91576618,  0.08423382],\n",
       "       [ 0.91576618,  0.08423382],\n",
       "       [ 1.        ,  0.        ],\n",
       "       [ 0.9       ,  0.1       ],\n",
       "       [ 0.        ,  1.        ],\n",
       "       [ 0.77464286,  0.22535714],\n",
       "       [ 0.95278879,  0.04721121],\n",
       "       [ 1.        ,  0.        ],\n",
       "       [ 1.        ,  0.        ],\n",
       "       [ 1.        ,  0.        ],\n",
       "       [ 0.49166667,  0.50833333],\n",
       "       [ 1.        ,  0.        ],\n",
       "       [ 0.        ,  1.        ],\n",
       "       [ 0.56416667,  0.43583333],\n",
       "       [ 1.        ,  0.        ],\n",
       "       [ 0.8       ,  0.2       ],\n",
       "       [ 0.95050452,  0.04949548],\n",
       "       [ 1.        ,  0.        ],\n",
       "       [ 0.        ,  1.        ],\n",
       "       [ 0.44166667,  0.55833333],\n",
       "       [ 0.95050452,  0.04949548],\n",
       "       [ 0.        ,  1.        ],\n",
       "       [ 0.1       ,  0.9       ],\n",
       "       [ 0.87674242,  0.12325758],\n",
       "       [ 0.9       ,  0.1       ],\n",
       "       [ 0.95050452,  0.04949548],\n",
       "       [ 0.18333333,  0.81666667],\n",
       "       [ 0.95050452,  0.04949548],\n",
       "       [ 0.        ,  1.        ],\n",
       "       [ 0.91576618,  0.08423382],\n",
       "       [ 0.18947696,  0.81052304],\n",
       "       [ 0.        ,  1.        ],\n",
       "       [ 1.        ,  0.        ],\n",
       "       [ 0.95050452,  0.04949548],\n",
       "       [ 0.24166667,  0.75833333],\n",
       "       [ 1.        ,  0.        ],\n",
       "       [ 0.9       ,  0.1       ],\n",
       "       [ 0.4       ,  0.6       ],\n",
       "       [ 1.        ,  0.        ],\n",
       "       [ 1.        ,  0.        ],\n",
       "       [ 1.        ,  0.        ],\n",
       "       [ 1.        ,  0.        ],\n",
       "       [ 0.71547619,  0.28452381],\n",
       "       [ 1.        ,  0.        ],\n",
       "       [ 0.95050452,  0.04949548],\n",
       "       [ 1.        ,  0.        ],\n",
       "       [ 0.        ,  1.        ],\n",
       "       [ 0.1       ,  0.9       ],\n",
       "       [ 0.6       ,  0.4       ],\n",
       "       [ 0.9       ,  0.1       ],\n",
       "       [ 1.        ,  0.        ],\n",
       "       [ 0.74198413,  0.25801587],\n",
       "       [ 0.73333333,  0.26666667],\n",
       "       [ 0.79765873,  0.20234127],\n",
       "       [ 0.8       ,  0.2       ],\n",
       "       [ 1.        ,  0.        ],\n",
       "       [ 0.9       ,  0.1       ],\n",
       "       [ 0.18947696,  0.81052304],\n",
       "       [ 0.7       ,  0.3       ],\n",
       "       [ 1.        ,  0.        ],\n",
       "       [ 0.93277778,  0.06722222],\n",
       "       [ 0.8       ,  0.2       ],\n",
       "       [ 1.        ,  0.        ],\n",
       "       [ 0.93277778,  0.06722222],\n",
       "       [ 0.87674242,  0.12325758],\n",
       "       [ 0.73333333,  0.26666667],\n",
       "       [ 0.        ,  1.        ],\n",
       "       [ 0.6       ,  0.4       ],\n",
       "       [ 0.        ,  1.        ],\n",
       "       [ 0.95050452,  0.04949548],\n",
       "       [ 0.51333333,  0.48666667],\n",
       "       [ 0.9       ,  0.1       ],\n",
       "       [ 0.9       ,  0.1       ],\n",
       "       [ 0.50119048,  0.49880952],\n",
       "       [ 0.18947696,  0.81052304],\n",
       "       [ 0.1       ,  0.9       ],\n",
       "       [ 0.5       ,  0.5       ],\n",
       "       [ 0.        ,  1.        ],\n",
       "       [ 0.1       ,  0.9       ],\n",
       "       [ 0.9       ,  0.1       ],\n",
       "       [ 0.8       ,  0.2       ],\n",
       "       [ 0.77464286,  0.22535714],\n",
       "       [ 0.9       ,  0.1       ],\n",
       "       [ 0.1       ,  0.9       ],\n",
       "       [ 1.        ,  0.        ],\n",
       "       [ 0.1       ,  0.9       ],\n",
       "       [ 0.815516  ,  0.184484  ],\n",
       "       [ 0.        ,  1.        ],\n",
       "       [ 0.73202381,  0.26797619],\n",
       "       [ 0.4       ,  0.6       ],\n",
       "       [ 0.85692308,  0.14307692],\n",
       "       [ 0.9       ,  0.1       ],\n",
       "       [ 0.6       ,  0.4       ],\n",
       "       [ 0.        ,  1.        ],\n",
       "       [ 0.1       ,  0.9       ],\n",
       "       [ 0.95278879,  0.04721121],\n",
       "       [ 0.92      ,  0.08      ],\n",
       "       [ 0.        ,  1.        ],\n",
       "       [ 1.        ,  0.        ],\n",
       "       [ 1.        ,  0.        ],\n",
       "       [ 0.8       ,  0.2       ],\n",
       "       [ 0.1       ,  0.9       ],\n",
       "       [ 1.        ,  0.        ],\n",
       "       [ 0.2       ,  0.8       ],\n",
       "       [ 0.18947696,  0.81052304],\n",
       "       [ 1.        ,  0.        ],\n",
       "       [ 0.82857143,  0.17142857],\n",
       "       [ 0.1       ,  0.9       ],\n",
       "       [ 0.6       ,  0.4       ],\n",
       "       [ 0.74198413,  0.25801587],\n",
       "       [ 1.        ,  0.        ],\n",
       "       [ 1.        ,  0.        ],\n",
       "       [ 1.        ,  0.        ],\n",
       "       [ 1.        ,  0.        ],\n",
       "       [ 0.9       ,  0.1       ],\n",
       "       [ 0.95050452,  0.04949548],\n",
       "       [ 0.95050452,  0.04949548],\n",
       "       [ 0.73202381,  0.26797619],\n",
       "       [ 0.1       ,  0.9       ],\n",
       "       [ 0.        ,  1.        ],\n",
       "       [ 0.79765873,  0.20234127],\n",
       "       [ 0.88936508,  0.11063492],\n",
       "       [ 1.        ,  0.        ],\n",
       "       [ 0.91277778,  0.08722222],\n",
       "       [ 0.2       ,  0.8       ],\n",
       "       [ 0.9       ,  0.1       ],\n",
       "       [ 0.49333333,  0.50666667],\n",
       "       [ 0.1       ,  0.9       ],\n",
       "       [ 0.4       ,  0.6       ],\n",
       "       [ 0.92      ,  0.08      ],\n",
       "       [ 1.        ,  0.        ],\n",
       "       [ 0.2       ,  0.8       ],\n",
       "       [ 0.        ,  1.        ],\n",
       "       [ 1.        ,  0.        ],\n",
       "       [ 1.        ,  0.        ],\n",
       "       [ 1.        ,  0.        ],\n",
       "       [ 0.        ,  1.        ],\n",
       "       [ 0.95050452,  0.04949548],\n",
       "       [ 1.        ,  0.        ],\n",
       "       [ 0.75666667,  0.24333333],\n",
       "       [ 0.        ,  1.        ],\n",
       "       [ 0.91277778,  0.08722222],\n",
       "       [ 0.        ,  1.        ],\n",
       "       [ 1.        ,  0.        ],\n",
       "       [ 0.21666667,  0.78333333],\n",
       "       [ 0.95278879,  0.04721121],\n",
       "       [ 0.56416667,  0.43583333],\n",
       "       [ 0.79765873,  0.20234127],\n",
       "       [ 1.        ,  0.        ],\n",
       "       [ 0.        ,  1.        ],\n",
       "       [ 0.815516  ,  0.184484  ],\n",
       "       [ 0.        ,  1.        ],\n",
       "       [ 0.73333333,  0.26666667],\n",
       "       [ 0.85278879,  0.14721121],\n",
       "       [ 0.2       ,  0.8       ],\n",
       "       [ 0.95278879,  0.04721121],\n",
       "       [ 0.1       ,  0.9       ],\n",
       "       [ 0.4       ,  0.6       ],\n",
       "       [ 0.        ,  1.        ],\n",
       "       [ 0.6       ,  0.4       ],\n",
       "       [ 0.95050452,  0.04949548],\n",
       "       [ 0.54583333,  0.45416667],\n",
       "       [ 0.54583333,  0.45416667],\n",
       "       [ 0.8       ,  0.2       ],\n",
       "       [ 1.        ,  0.        ],\n",
       "       [ 0.8       ,  0.2       ],\n",
       "       [ 0.2       ,  0.8       ],\n",
       "       [ 0.95278879,  0.04721121],\n",
       "       [ 0.9       ,  0.1       ],\n",
       "       [ 0.83488095,  0.16511905],\n",
       "       [ 1.        ,  0.        ],\n",
       "       [ 0.54583333,  0.45416667],\n",
       "       [ 0.9       ,  0.1       ],\n",
       "       [ 0.        ,  1.        ],\n",
       "       [ 0.5       ,  0.5       ],\n",
       "       [ 0.9       ,  0.1       ],\n",
       "       [ 0.555     ,  0.445     ],\n",
       "       [ 1.        ,  0.        ],\n",
       "       [ 0.2       ,  0.8       ],\n",
       "       [ 0.2       ,  0.8       ],\n",
       "       [ 0.5       ,  0.5       ],\n",
       "       [ 0.36666667,  0.63333333],\n",
       "       [ 0.88936508,  0.11063492],\n",
       "       [ 0.39166667,  0.60833333],\n",
       "       [ 0.8       ,  0.2       ],\n",
       "       [ 0.9       ,  0.1       ],\n",
       "       [ 0.        ,  1.        ],\n",
       "       [ 0.77464286,  0.22535714],\n",
       "       [ 0.7       ,  0.3       ],\n",
       "       [ 1.        ,  0.        ],\n",
       "       [ 0.3       ,  0.7       ],\n",
       "       [ 0.83936508,  0.16063492],\n",
       "       [ 0.73202381,  0.26797619],\n",
       "       [ 0.18333333,  0.81666667],\n",
       "       [ 0.9       ,  0.1       ],\n",
       "       [ 1.        ,  0.        ],\n",
       "       [ 0.57714286,  0.42285714],\n",
       "       [ 0.        ,  1.        ],\n",
       "       [ 0.36666667,  0.63333333],\n",
       "       [ 0.3       ,  0.7       ],\n",
       "       [ 0.7       ,  0.3       ],\n",
       "       [ 0.8       ,  0.2       ],\n",
       "       [ 0.95278879,  0.04721121],\n",
       "       [ 0.95050452,  0.04949548],\n",
       "       [ 0.7       ,  0.3       ],\n",
       "       [ 0.95278879,  0.04721121],\n",
       "       [ 0.7       ,  0.3       ],\n",
       "       [ 0.        ,  1.        ],\n",
       "       [ 0.815516  ,  0.184484  ],\n",
       "       [ 1.        ,  0.        ],\n",
       "       [ 0.73333333,  0.26666667],\n",
       "       [ 0.        ,  1.        ],\n",
       "       [ 0.91576618,  0.08423382],\n",
       "       [ 0.95050452,  0.04949548],\n",
       "       [ 0.56416667,  0.43583333],\n",
       "       [ 0.78571429,  0.21428571],\n",
       "       [ 1.        ,  0.        ],\n",
       "       [ 0.9       ,  0.1       ],\n",
       "       [ 0.        ,  1.        ],\n",
       "       [ 1.        ,  0.        ],\n",
       "       [ 1.        ,  0.        ],\n",
       "       [ 1.        ,  0.        ],\n",
       "       [ 0.95050452,  0.04949548],\n",
       "       [ 1.        ,  0.        ],\n",
       "       [ 1.        ,  0.        ],\n",
       "       [ 0.        ,  1.        ],\n",
       "       [ 0.6       ,  0.4       ],\n",
       "       [ 1.        ,  0.        ],\n",
       "       [ 0.3       ,  0.7       ],\n",
       "       [ 0.        ,  1.        ],\n",
       "       [ 0.2       ,  0.8       ],\n",
       "       [ 0.8       ,  0.2       ],\n",
       "       [ 0.1       ,  0.9       ],\n",
       "       [ 0.75      ,  0.25      ],\n",
       "       [ 0.62857143,  0.37142857],\n",
       "       [ 0.815516  ,  0.184484  ],\n",
       "       [ 1.        ,  0.        ],\n",
       "       [ 1.        ,  0.        ],\n",
       "       [ 0.        ,  1.        ],\n",
       "       [ 0.83488095,  0.16511905],\n",
       "       [ 1.        ,  0.        ],\n",
       "       [ 0.075     ,  0.925     ],\n",
       "       [ 0.2       ,  0.8       ],\n",
       "       [ 0.6       ,  0.4       ],\n",
       "       [ 0.95050452,  0.04949548],\n",
       "       [ 0.6       ,  0.4       ],\n",
       "       [ 0.77464286,  0.22535714],\n",
       "       [ 0.1       ,  0.9       ],\n",
       "       [ 0.1       ,  0.9       ],\n",
       "       [ 0.96666667,  0.03333333],\n",
       "       [ 0.2       ,  0.8       ],\n",
       "       [ 0.7       ,  0.3       ],\n",
       "       [ 1.        ,  0.        ],\n",
       "       [ 0.87674242,  0.12325758],\n",
       "       [ 0.95050452,  0.04949548],\n",
       "       [ 0.075     ,  0.925     ],\n",
       "       [ 0.05333333,  0.94666667],\n",
       "       [ 0.92      ,  0.08      ],\n",
       "       [ 0.18333333,  0.81666667],\n",
       "       [ 1.        ,  0.        ],\n",
       "       [ 0.54583333,  0.45416667],\n",
       "       [ 0.41666667,  0.58333333],\n",
       "       [ 1.        ,  0.        ],\n",
       "       [ 0.        ,  1.        ],\n",
       "       [ 0.83488095,  0.16511905],\n",
       "       [ 0.        ,  1.        ],\n",
       "       [ 0.49333333,  0.50666667]])"
      ]
     },
     "execution_count": 31,
     "metadata": {},
     "output_type": "execute_result"
    }
   ],
   "source": [
    "rf.predict_proba(X_validate)"
   ]
  },
  {
   "cell_type": "code",
   "execution_count": 32,
   "metadata": {
    "collapsed": true
   },
   "outputs": [],
   "source": [
    "classifiers = {\n",
    "    \"XGBoost\": xgb.XGBClassifier(learning_rate=0.26, n_estimators=21)\n",
    "    ,\"Random Forest\": RandomForestClassifier(n_estimators=25)\n",
    "    ,\"AdaBoost\": AdaBoostClassifier()\n",
    "    ,\"Naive Bayes\": GaussianNB()\n",
    "    ,\"Linear SVM\": SVC(kernel=\"linear\", C=0.025, probability=True)\n",
    "    ,\"Gaussian SVM\": SVC(gamma=2, C=1, probability=True)\n",
    "    ,\"k-Nearest Neighbors\": KNeighborsClassifier(3)\n",
    "    }"
   ]
  },
  {
   "cell_type": "code",
   "execution_count": 33,
   "metadata": {},
   "outputs": [
    {
     "name": "stdout",
     "output_type": "stream",
     "text": [
      "Fitting XGBoost classifier...\n",
      "Fitting Random Forest classifier...\n",
      "Fitting AdaBoost classifier...\n",
      "Fitting Naive Bayes classifier...\n",
      "Fitting Linear SVM classifier...\n",
      "Fitting Gaussian SVM classifier...\n",
      "Fitting k-Nearest Neighbors classifier...\n"
     ]
    }
   ],
   "source": [
    "for key, value in classifiers.items():\n",
    "    print(\"Fitting \" + key + \" classifier...\")\n",
    "    value.fit(X_train, Y_train)"
   ]
  },
  {
   "cell_type": "code",
   "execution_count": 34,
   "metadata": {
    "collapsed": true
   },
   "outputs": [],
   "source": [
    "from sklearn.feature_selection import SelectFromModel\n",
    "from sklearn.metrics import roc_curve, auc, accuracy_score"
   ]
  },
  {
   "cell_type": "code",
   "execution_count": 35,
   "metadata": {
    "collapsed": true
   },
   "outputs": [],
   "source": [
    "def plot_roc_curves(classifiers, X, Y):\n",
    "    plt.figure()\n",
    "    for key, value in classifiers.items():\n",
    "        fpr, tpr, thresholds = roc_curve(Y, value.predict_proba(X)[:,1])\n",
    "        roc_auc = auc(fpr, tpr)\n",
    "        acc = accuracy_score(Y, value.predict(X))\n",
    "        print(key + \" AUC: \" + str(roc_auc) + \" Accuracy: \" + str(acc))\n",
    "        plt.plot(fpr, tpr, lw=2, label=key + ' (AUC: %0.2f)' % roc_auc)\n",
    "\n",
    "    plt.plot([0, 1], [0, 1], color='navy', lw=2, linestyle='--')\n",
    "    plt.xlim([0.0, 1.0])\n",
    "    plt.ylim([0.0, 1.05])\n",
    "    plt.xlabel('False Positive Rate')\n",
    "    plt.ylabel('True Positive Rate')\n",
    "    plt.legend(loc=\"lower right\", prop={'size': 8})\n",
    "    plt.show()"
   ]
  },
  {
   "cell_type": "code",
   "execution_count": 36,
   "metadata": {},
   "outputs": [
    {
     "name": "stdout",
     "output_type": "stream",
     "text": [
      "XGBoost AUC: 0.872167359667 Accuracy: 0.820069204152\n",
      "Random Forest AUC: 0.827390852391 Accuracy: 0.80276816609\n",
      "AdaBoost AUC: 0.859017671518 Accuracy: 0.820069204152\n",
      "Naive Bayes AUC: 0.862058212058 Accuracy: 0.80276816609\n",
      "Linear SVM AUC: 0.859927234927 Accuracy: 0.77508650519\n",
      "Gaussian SVM AUC: 0.800103950104 Accuracy: 0.782006920415\n",
      "k-Nearest Neighbors AUC: 0.776507276507 Accuracy: 0.771626297578\n"
     ]
    },
    {
     "data": {
      "image/png": "[encoded data removed]",
      "text/plain": [
       "<matplotlib.figure.Figure at 0x257c4a5fa58>"
      ]
     },
     "metadata": {},
     "output_type": "display_data"
    }
   ],
   "source": [
    "plot_roc_curves(classifiers, X_validate, Y_validate)"
   ]
  },
  {
   "cell_type": "code",
   "execution_count": 37,
   "metadata": {},
   "outputs": [
    {
     "data": {
      "text/plain": [
       "array([0, 0, 0, 0, 0, 0, 1, 0, 1, 0, 0, 0, 1, 0, 1, 1, 0, 0, 0, 0, 0, 0, 1,\n",
       "       0, 1, 0, 1, 0, 0, 0, 0, 0, 1, 0, 0, 0, 0, 0, 0, 0, 0, 0, 0, 1, 1, 0,\n",
       "       0, 0, 1, 1, 0, 0, 1, 1, 0, 0, 0, 0, 0, 1, 0, 0, 0, 1, 1, 1, 1, 0, 0,\n",
       "       1, 1, 0, 0, 0, 1, 0, 0, 1, 0, 1, 0, 0, 0, 0, 0, 0, 1, 0, 1, 1, 0, 0,\n",
       "       1, 0, 0, 0, 1, 0, 0, 0, 1, 0, 0, 0, 1, 0, 0, 0, 0, 0, 0, 1, 1, 1, 1,\n",
       "       0, 0, 1, 0, 1, 1, 0, 1, 0, 0, 0, 0, 1, 0, 0, 0, 0, 0, 0, 0, 0, 0, 0,\n",
       "       0, 0, 0, 1, 0, 0, 0, 0, 0, 0, 0, 0, 1, 0, 0, 1, 0, 0, 1, 0, 0, 0, 1,\n",
       "       0, 1, 0, 0, 0, 0, 0, 1, 0, 0, 0, 0, 0, 0, 1, 1, 0, 1, 1, 0, 0, 1, 0,\n",
       "       1, 0, 1, 0, 0, 0, 0, 0, 0, 0, 1, 0, 1, 0, 0, 0, 1, 0, 0, 1, 0, 0, 1,\n",
       "       0, 1, 0, 0, 0, 0, 1, 0, 0, 1, 0, 1, 0, 1, 0, 1, 0, 1, 1, 0, 1, 0, 0,\n",
       "       0, 1, 0, 0, 0, 0, 0, 0, 1, 1, 1, 1, 0, 0, 0, 0, 1, 0, 1, 1, 1, 0, 0,\n",
       "       0, 0, 0, 0, 0, 1, 0, 0, 0, 1, 1, 0, 0, 0, 0, 0, 0, 0, 0, 1, 1, 0, 1,\n",
       "       0, 0, 0, 0, 0, 0, 1, 1, 0, 0, 0, 0, 0, 0, 0, 1, 0, 0, 0, 0, 1, 0, 0,\n",
       "       0, 0, 0, 0, 0, 1, 1, 0, 0, 0, 0, 0, 0, 0, 1, 1, 1, 0, 0, 0, 0, 0, 0,\n",
       "       0, 0, 1, 0, 1, 0, 0, 0, 1, 0, 0, 1, 0, 0, 0, 0, 0, 0, 0, 0, 0, 1, 0,\n",
       "       0, 0, 1, 0, 1, 1, 0, 0, 0, 1, 0, 1, 0, 0, 0, 0, 1, 1, 0, 1, 0, 0, 0,\n",
       "       1, 0, 0, 1, 0, 0, 1, 1, 0, 0, 0, 0, 0, 0, 0, 0, 0, 1, 0, 0, 0, 0, 0,\n",
       "       1, 0, 0, 0, 1, 0, 1, 0, 0, 1, 0, 1, 0, 0, 0, 0, 0, 1, 1, 1, 1, 0, 0,\n",
       "       1, 0, 0, 0], dtype=int64)"
      ]
     },
     "execution_count": 37,
     "metadata": {},
     "output_type": "execute_result"
    }
   ],
   "source": [
    "classifiers[\"XGBoost\"].predict(X_test)"
   ]
  },
  {
   "cell_type": "code",
   "execution_count": 44,
   "metadata": {
    "collapsed": true
   },
   "outputs": [],
   "source": [
    "submission = pd.DataFrame()\n",
    "submission['PassengerId'] = test.PassengerId\n",
    "submission['Survived'] = classifiers[\"XGBoost\"].predict(X_test)\n",
    "submission.to_csv('D:\\\\python-course\\\\submission.csv', index=False)"
   ]
  },
  {
   "cell_type": "code",
   "execution_count": null,
   "metadata": {
    "collapsed": true
   },
   "outputs": [],
   "source": []
  }
 ],
 "metadata": {
  "kernelspec": {
   "display_name": "Python [conda root]",
   "language": "python",
   "name": "conda-root-py"
  },
  "language_info": {
   "codemirror_mode": {
    "name": "ipython",
    "version": 3
   },
   "file_extension": ".py",
   "mimetype": "text/x-python",
   "name": "python",
   "nbconvert_exporter": "python",
   "pygments_lexer": "ipython3",
   "version": "3.6.3"
  }
 },
 "nbformat": 4,
 "nbformat_minor": 2
}
